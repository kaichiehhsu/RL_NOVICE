{
 "cells": [
  {
   "cell_type": "markdown",
   "metadata": {},
   "source": [
    "# LQR for Cart-Pole"
   ]
  },
  {
   "cell_type": "code",
   "execution_count": 1,
   "metadata": {},
   "outputs": [],
   "source": [
    "import numpy as np\n",
    "from scipy import linalg as la\n",
    "import matplotlib.pyplot as plt\n",
    "\n",
    "import gym\n",
    "from collections import namedtuple"
   ]
  },
  {
   "cell_type": "code",
   "execution_count": 2,
   "metadata": {},
   "outputs": [
    {
     "data": {
      "image/png": "[encoded data removed]",
      "text/plain": [
       "<Figure size 648x288 with 2 Axes>"
      ]
     },
     "metadata": {
      "needs_background": "light"
     },
     "output_type": "display_data"
    }
   ],
   "source": [
    "theta = np.linspace(0, 12, 100) /180*np.pi\n",
    "t = np.ones(theta.shape[0])\n",
    "y = np.sin(theta)\n",
    "z = np.cos(theta)\n",
    "fig = plt.figure(figsize=(9,4))\n",
    "ax = fig.add_subplot(121)\n",
    "ax.plot(theta*180/np.pi, theta, 'b--', label=r'$\\theta$')\n",
    "ax.plot(theta*180/np.pi, y, 'r-', label=r'$\\sin \\theta$')\n",
    "ax.set_ylim(0, 0.25)\n",
    "ax.set_xlim(0, 12)\n",
    "ax.legend()\n",
    "ax = fig.add_subplot(122)\n",
    "ax.plot(theta*180/np.pi, t, 'b--', label=r'$1$')\n",
    "ax.plot(theta*180/np.pi, z, 'r-', label=r'$\\cos \\theta$')\n",
    "ax.set_ylim(0.5, 1.01)\n",
    "ax.set_xlim(0, 12)\n",
    "ax.legend(loc=3)\n",
    "plt.show()"
   ]
  },
  {
   "cell_type": "markdown",
   "metadata": {},
   "source": [
    "## State-Space Model\n",
    "* [GYM model](https://coneural.org/florian/papers/05_cart_pole.pdf)\n",
    "    * neglect friction\n",
    "    * $\\theta$ is the deviation angle from the equilibrium\n",
    "    * $F$ is the applied force to the cart\n",
    "    * the pole has a mass $m_p$ and length $2\\ell$\n",
    "    * the cart has a mass $m_c$\n",
    "    * $s = [x, \\dot{x}, \\theta, \\dot{\\theta}]^T$, $\\mu \\in \\{ -F, +F\\}$\n",
    "$$\n",
    "\\ddot{\\theta} = \\frac{g \\sin \\theta + \\cos \\theta (\\frac{-F - m_p \\ell \\dot{\\theta}^2 \\sin \\theta}{m_c + m_p})}{\\ell (\\frac{4}{3} - \\frac{m_p \\cos^2 \\theta}{m_c+m_p})},\\\n",
    "\\ddot{x} = \\frac{F + m_p \\ell (\\dot{\\theta}^2 \\sin \\theta - \\ddot{\\theta} \\cos \\theta)}{m_c + m_p} \n",
    "$$\n",
    "\n",
    "* [http://ctms.engin.umich.edu/CTMS/index.php?example=InvertedPendulum&section=SystemModeling](http://ctms.engin.umich.edu/CTMS/index.php?example=InvertedPendulum&section=SystemModeling)\n",
    "    * when $\\theta$ is small, $\\sin \\theta \\approx \\theta$, $\\cos \\theta \\approx 1$, $\\dot{\\theta}^2 \\approx 0$ -> linear approximation\n",
    "$$\n",
    "\\ddot{\\theta} \\approx \\frac{g \\theta + \\frac{-F}{m_c + m_p}}{\\ell (\\frac{4}{3} - \\frac{m_p}{m_c+m_p})} =: w_\\theta \\theta + w_F F,\\\n",
    "\\ddot{x} \\approx \\frac{F - m_p \\ell \\ddot{\\theta}}{m_c + m_p} = \\frac{- m_p \\ell w_\\theta}{m_c + m_p} \\theta + \\frac{1 - m_p \\ell w_F}{m_c + m_p} F\n",
    "$$\n",
    "\n",
    "* LQR, CT, Infinite Horizon\n",
    "    * $J(s, \\mu) = \\frac{1}{2} c_x s[0]^2 +  \\frac{1}{2} c_\\theta s[2]^2 + \\frac{1}{2} c_\\mu \\mu^2$\n",
    "    * $0 = A^TP + PA - PBR^{-1}B^TPQ$ (CARE)\n",
    "    * $\\mu = K s = -R^{-1}B^TP s$"
   ]
  },
  {
   "cell_type": "code",
   "execution_count": 3,
   "metadata": {},
   "outputs": [],
   "source": [
    "#== Param ==\n",
    "gravity = 9.8\n",
    "masscart = 1.0\n",
    "masspole = 0.1\n",
    "length = 0.5  # actually half the pole's length"
   ]
  },
  {
   "cell_type": "code",
   "execution_count": 4,
   "metadata": {},
   "outputs": [],
   "source": [
    "def cart_pole_sys(c_x=1, c_theta=1, c_mu=1, masscart=1., masspole=0.1, length=0.5, gravity=9.8):\n",
    "    total_mass = (masspole + masscart)\n",
    "    polemass_length = (masspole * length)\n",
    "    \n",
    "    tmp = length * (4.0/3.0 + masspole/total_mass)\n",
    "    w_theta = gravity / tmp\n",
    "    w_F = -1 / total_mass / tmp\n",
    "\n",
    "    A = np.zeros((4,4))\n",
    "    B = np.zeros((4,1))\n",
    "    Q = np.zeros((4,4))\n",
    "    R = np.ones((1,1)) * c_mu\n",
    "    \n",
    "    A[0, 1] = 1.0\n",
    "    A[2, 3] = 1.0\n",
    "    A[3, 2] = w_theta\n",
    "    A[1, 2] = -polemass_length / total_mass * w_theta\n",
    "    B[3, 0] = w_F\n",
    "    B[1, 0] = (1 - polemass_length * w_F) / total_mass\n",
    "    Q[0, 0] = c_x\n",
    "    Q[2, 2] = c_theta\n",
    "    \n",
    "    return A, B, Q, R\n",
    "\n",
    "def LQR_inf_ct(A, B, Q, R):\n",
    "    P = la.solve_continuous_are(A, B, Q, R)\n",
    "    K = - la.inv(R) @ B.T @ P\n",
    "    #print(P)\n",
    "    #print(K)\n",
    "    return K"
   ]
  },
  {
   "cell_type": "markdown",
   "metadata": {},
   "source": [
    "## Environment"
   ]
  },
  {
   "cell_type": "code",
   "execution_count": 5,
   "metadata": {},
   "outputs": [
    {
     "name": "stdout",
     "output_type": "stream",
     "text": [
      "4\n",
      "195.0\n"
     ]
    }
   ],
   "source": [
    "#== Cart Pole ==\n",
    "# An episode ends when (1) |x| >= 2.4 (2) |theta| >= 12 deg (3) episode length > 200\n",
    "env = gym.make('CartPole-v0')\n",
    "env.seed(0)\n",
    "s_dim = env.observation_space.shape[0]\n",
    "print(s_dim)\n",
    "\n",
    "running_reward_th = env.spec.reward_threshold\n",
    "print(running_reward_th)"
   ]
  },
  {
   "cell_type": "code",
   "execution_count": 6,
   "metadata": {},
   "outputs": [
    {
     "name": "stdout",
     "output_type": "stream",
     "text": [
      "200.0\n",
      "200.0\n",
      "200.0\n",
      "200.0\n",
      "200.0\n"
     ]
    }
   ],
   "source": [
    "tmp_list = []\n",
    "state_array = []\n",
    "state_i = np.zeros((4,))\n",
    "state_i[0] = 0.5\n",
    "state_i[2] = 0.04\n",
    "for c_theta in np.array([0.01, 0.1, 1, 10, 100]):\n",
    "    ep_reward = 0\n",
    "    env.reset()\n",
    "    env.state = state_i\n",
    "    s = state_i\n",
    "    A, B, Q, R = cart_pole_sys(c_x=1, c_theta=c_theta)\n",
    "    K = LQR_inf_ct(A, B, Q, R)\n",
    "    done = False\n",
    "    state_list = []\n",
    "    while not done:\n",
    "        #env.render()\n",
    "        state_list.append(s[[0,2]])\n",
    "        u = K @ s\n",
    "        if u < 0:\n",
    "            a = 0\n",
    "        else:\n",
    "            a = 1\n",
    "\n",
    "        s_, r, done, _ = env.step(a)\n",
    "        ep_reward += r\n",
    "        s = s_\n",
    "    print(ep_reward)\n",
    "    tmp_list.append(ep_reward)\n",
    "    state_array.append(state_list)\n",
    "env.close()"
   ]
  },
  {
   "cell_type": "code",
   "execution_count": null,
   "metadata": {},
   "outputs": [],
   "source": []
  }
 ],
 "metadata": {
  "kernelspec": {
   "display_name": "Python 3",
   "language": "python",
   "name": "python3"
  },
  "language_info": {
   "codemirror_mode": {
    "name": "ipython",
    "version": 3
   },
   "file_extension": ".py",
   "mimetype": "text/x-python",
   "name": "python",
   "nbconvert_exporter": "python",
   "pygments_lexer": "ipython3",
   "version": "3.7.4"
  }
 },
 "nbformat": 4,
 "nbformat_minor": 4
}
